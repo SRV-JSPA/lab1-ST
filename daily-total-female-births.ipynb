{
 "cells": [
  {
   "cell_type": "markdown",
   "id": "a98cec4b",
   "metadata": {},
   "source": [
    "# Daily Total Female Births"
   ]
  }
 ],
 "metadata": {
  "language_info": {
   "name": "python"
  }
 },
 "nbformat": 4,
 "nbformat_minor": 5
}
