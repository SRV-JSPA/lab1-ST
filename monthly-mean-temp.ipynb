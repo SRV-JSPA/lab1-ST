{
 "cells": [
  {
   "cell_type": "markdown",
   "id": "b15f058d",
   "metadata": {},
   "source": [
    "# Monthly Mean Temp"
   ]
  }
 ],
 "metadata": {
  "language_info": {
   "name": "python"
  }
 },
 "nbformat": 4,
 "nbformat_minor": 5
}
